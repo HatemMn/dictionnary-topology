{
 "cells": [
  {
   "cell_type": "code",
   "execution_count": 31,
   "id": "51e94dbe",
   "metadata": {},
   "outputs": [],
   "source": [
    "import pandas as pd\n",
    "import string\n",
    "import re"
   ]
  },
  {
   "cell_type": "code",
   "execution_count": null,
   "id": "ff771a4a",
   "metadata": {},
   "outputs": [],
   "source": []
  },
  {
   "cell_type": "code",
   "execution_count": 32,
   "id": "81530c05",
   "metadata": {},
   "outputs": [],
   "source": [
    "df = pd.read_csv(\"dictionary.csv\");"
   ]
  },
  {
   "cell_type": "code",
   "execution_count": 33,
   "id": "f888c039",
   "metadata": {},
   "outputs": [
    {
     "data": {
      "text/html": [
       "<div>\n",
       "<style scoped>\n",
       "    .dataframe tbody tr th:only-of-type {\n",
       "        vertical-align: middle;\n",
       "    }\n",
       "\n",
       "    .dataframe tbody tr th {\n",
       "        vertical-align: top;\n",
       "    }\n",
       "\n",
       "    .dataframe thead th {\n",
       "        text-align: right;\n",
       "    }\n",
       "</style>\n",
       "<table border=\"1\" class=\"dataframe\">\n",
       "  <thead>\n",
       "    <tr style=\"text-align: right;\">\n",
       "      <th></th>\n",
       "      <th>word</th>\n",
       "      <th>type</th>\n",
       "      <th>definition</th>\n",
       "    </tr>\n",
       "  </thead>\n",
       "  <tbody>\n",
       "    <tr>\n",
       "      <th>0</th>\n",
       "      <td>Aam</td>\n",
       "      <td>n.</td>\n",
       "      <td>A Dutch and German measure of liquids, varying...</td>\n",
       "    </tr>\n",
       "    <tr>\n",
       "      <th>1</th>\n",
       "      <td>Aard-vark</td>\n",
       "      <td>n.</td>\n",
       "      <td>An edentate mammal, of the genus Orycteropus, ...</td>\n",
       "    </tr>\n",
       "    <tr>\n",
       "      <th>2</th>\n",
       "      <td>Aard-wolf</td>\n",
       "      <td>n.</td>\n",
       "      <td>A carnivorous quadruped (Proteles Lalandii), o...</td>\n",
       "    </tr>\n",
       "    <tr>\n",
       "      <th>3</th>\n",
       "      <td>Aaronic</td>\n",
       "      <td>a.</td>\n",
       "      <td>Alt. of Aaronical</td>\n",
       "    </tr>\n",
       "    <tr>\n",
       "      <th>4</th>\n",
       "      <td>Aaronical</td>\n",
       "      <td>a.</td>\n",
       "      <td>Pertaining to Aaron, the first high priest of ...</td>\n",
       "    </tr>\n",
       "  </tbody>\n",
       "</table>\n",
       "</div>"
      ],
      "text/plain": [
       "        word type                                         definition\n",
       "0        Aam   n.  A Dutch and German measure of liquids, varying...\n",
       "1  Aard-vark   n.  An edentate mammal, of the genus Orycteropus, ...\n",
       "2  Aard-wolf   n.  A carnivorous quadruped (Proteles Lalandii), o...\n",
       "3    Aaronic   a.                                  Alt. of Aaronical\n",
       "4  Aaronical   a.  Pertaining to Aaron, the first high priest of ..."
      ]
     },
     "execution_count": 33,
     "metadata": {},
     "output_type": "execute_result"
    }
   ],
   "source": [
    "df.head()"
   ]
  },
  {
   "cell_type": "code",
   "execution_count": 34,
   "id": "a019c75d",
   "metadata": {},
   "outputs": [],
   "source": [
    "n = len(df) # number of words\n",
    "del df['type'] # we don't need it"
   ]
  },
  {
   "cell_type": "code",
   "execution_count": 35,
   "id": "8dc91477",
   "metadata": {},
   "outputs": [],
   "source": [
    "# lowercase characters\n",
    "df['word'] = df['word'].str.lower()\n",
    "df['definition'] = df['definition'].str.lower()\n",
    "\n",
    "# take away special characters, except '-' for composed names and whitespaces\n",
    "df['definition'].replace('[^-a-zA-Z\\d\\s:]','',regex=True, inplace=True)"
   ]
  },
  {
   "cell_type": "code",
   "execution_count": 38,
   "id": "9a19f35a",
   "metadata": {},
   "outputs": [
    {
     "data": {
      "text/html": [
       "<div>\n",
       "<style scoped>\n",
       "    .dataframe tbody tr th:only-of-type {\n",
       "        vertical-align: middle;\n",
       "    }\n",
       "\n",
       "    .dataframe tbody tr th {\n",
       "        vertical-align: top;\n",
       "    }\n",
       "\n",
       "    .dataframe thead th {\n",
       "        text-align: right;\n",
       "    }\n",
       "</style>\n",
       "<table border=\"1\" class=\"dataframe\">\n",
       "  <thead>\n",
       "    <tr style=\"text-align: right;\">\n",
       "      <th></th>\n",
       "      <th>word</th>\n",
       "      <th>definition</th>\n",
       "    </tr>\n",
       "  </thead>\n",
       "  <tbody>\n",
       "    <tr>\n",
       "      <th>0</th>\n",
       "      <td>aam</td>\n",
       "      <td>a dutch and german measure of liquids varying ...</td>\n",
       "    </tr>\n",
       "    <tr>\n",
       "      <th>1</th>\n",
       "      <td>aard-vark</td>\n",
       "      <td>an edentate mammal of the genus orycteropus so...</td>\n",
       "    </tr>\n",
       "    <tr>\n",
       "      <th>2</th>\n",
       "      <td>aard-wolf</td>\n",
       "      <td>a carnivorous quadruped proteles lalandii of s...</td>\n",
       "    </tr>\n",
       "    <tr>\n",
       "      <th>3</th>\n",
       "      <td>aaronic</td>\n",
       "      <td>alt of aaronical</td>\n",
       "    </tr>\n",
       "    <tr>\n",
       "      <th>4</th>\n",
       "      <td>aaronical</td>\n",
       "      <td>pertaining to aaron the first high priest of t...</td>\n",
       "    </tr>\n",
       "  </tbody>\n",
       "</table>\n",
       "</div>"
      ],
      "text/plain": [
       "        word                                         definition\n",
       "0        aam  a dutch and german measure of liquids varying ...\n",
       "1  aard-vark  an edentate mammal of the genus orycteropus so...\n",
       "2  aard-wolf  a carnivorous quadruped proteles lalandii of s...\n",
       "3    aaronic                                   alt of aaronical\n",
       "4  aaronical  pertaining to aaron the first high priest of t..."
      ]
     },
     "execution_count": 38,
     "metadata": {},
     "output_type": "execute_result"
    }
   ],
   "source": [
    "df.head()"
   ]
  },
  {
   "cell_type": "code",
   "execution_count": 46,
   "id": "e8debba5",
   "metadata": {},
   "outputs": [],
   "source": [
    "dictionnary = dict()\n",
    "for index, row in df.iterrows():\n",
    "    dictionnary[row['word']] = [0, row['definition'].split()] # first value will serve for later ( kernel or not ? ), second is definition"
   ]
  },
  {
   "cell_type": "code",
   "execution_count": 47,
   "id": "488d1c57",
   "metadata": {},
   "outputs": [],
   "source": [
    "non_existants = set()\n",
    "count_kernel = 0\n",
    "for key,value in dictionnary.items():\n",
    "    for word in value[1]:\n",
    "        if word in dictionnary:\n",
    "            if(value[0]==0):\n",
    "                count_kernel+=1\n",
    "            value[0] = 1\n",
    "        else:\n",
    "            non_existants.add(word)"
   ]
  },
  {
   "cell_type": "code",
   "execution_count": 52,
   "id": "3dc3c567",
   "metadata": {},
   "outputs": [
    {
     "name": "stdout",
     "output_type": "stream",
     "text": [
      "Nombre de mots du kernel 24084  sur  54544\n"
     ]
    }
   ],
   "source": [
    "print('Nombre de mots du kernel', str(count_kernel), ' sur ', str(n))"
   ]
  }
 ],
 "metadata": {
  "kernelspec": {
   "display_name": "Python 3 (ipykernel)",
   "language": "python",
   "name": "python3"
  },
  "language_info": {
   "codemirror_mode": {
    "name": "ipython",
    "version": 3
   },
   "file_extension": ".py",
   "mimetype": "text/x-python",
   "name": "python",
   "nbconvert_exporter": "python",
   "pygments_lexer": "ipython3",
   "version": "3.8.0"
  }
 },
 "nbformat": 4,
 "nbformat_minor": 5
}
